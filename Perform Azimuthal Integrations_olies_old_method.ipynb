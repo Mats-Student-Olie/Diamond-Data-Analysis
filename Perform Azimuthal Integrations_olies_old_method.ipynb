{
 "cells": [
  {
   "cell_type": "markdown",
   "metadata": {},
   "source": [
    "# Perform Azimuthal Integration \n",
    "\n",
    "## save in format for xrd_fit"
   ]
  },
  {
   "cell_type": "code",
   "execution_count": 1,
   "metadata": {},
   "outputs": [],
   "source": [
    "from nexusformat.nexus import *\n",
    "import pyFAI, fabio, h5py\n",
    "import numpy as np\n",
    "import glob, os\n",
    "from ipywidgets import Button, Layout, Dropdown\n",
    "import itertools\n",
    "import csv\n",
    "import logging \n",
    "import math\n",
    "import pathlib\n",
    "import warnings"
   ]
  },
  {
   "cell_type": "code",
   "execution_count": 2,
   "metadata": {},
   "outputs": [],
   "source": [
    "# Define paths\n",
    "data_dir = r'Z:\\Diamond_MG28894-1_DATA BACKUP\\rawdata'\n",
    "cal_dir = r\"Z:\\Diamond_MG28894-1_DATA BACKUP\\processing\"\n",
    "ponifile_1050mm = cal_dir + \"\\MG28894-1_poni1_1050.poni\"\n",
    "ponifile_2350mm = cal_dir + \"\\MG28894-1_poni2_2350.poni\"\n",
    "ponifile_750mm = cal_dir + \"\\MG28894-1_poni3_750.poni\""
   ]
  },
  {
   "cell_type": "code",
   "execution_count": 3,
   "metadata": {},
   "outputs": [
    {
     "ename": "IndexError",
     "evalue": "list index out of range",
     "output_type": "error",
     "traceback": [
      "\u001b[1;31m---------------------------------------------------------------------------\u001b[0m",
      "\u001b[1;31mIndexError\u001b[0m                                Traceback (most recent call last)",
      "\u001b[1;32m<ipython-input-3-6cc14c8b8a23>\u001b[0m in \u001b[0;36m<module>\u001b[1;34m\u001b[0m\n\u001b[0;32m      2\u001b[0m \u001b[1;33m\u001b[0m\u001b[0m\n\u001b[0;32m      3\u001b[0m \u001b[0mdir_list\u001b[0m\u001b[1;33m=\u001b[0m\u001b[1;33m[\u001b[0m\u001b[0mname\u001b[0m\u001b[1;33m.\u001b[0m\u001b[0msplit\u001b[0m\u001b[1;33m(\u001b[0m\u001b[1;34m'\\\\'\u001b[0m\u001b[1;33m)\u001b[0m\u001b[1;33m[\u001b[0m\u001b[1;33m-\u001b[0m\u001b[1;36m1\u001b[0m\u001b[1;33m]\u001b[0m\u001b[1;33m.\u001b[0m\u001b[0msplit\u001b[0m\u001b[1;33m(\u001b[0m\u001b[1;34m\".\"\u001b[0m\u001b[1;33m)\u001b[0m\u001b[1;33m[\u001b[0m\u001b[1;36m0\u001b[0m\u001b[1;33m]\u001b[0m \u001b[1;32mfor\u001b[0m \u001b[0mname\u001b[0m \u001b[1;32min\u001b[0m \u001b[0msorted\u001b[0m\u001b[1;33m(\u001b[0m\u001b[0mglob\u001b[0m\u001b[1;33m.\u001b[0m\u001b[0mglob\u001b[0m\u001b[1;33m(\u001b[0m\u001b[0mdata_dir\u001b[0m \u001b[1;33m+\u001b[0m \u001b[1;34m'\\*.nxs'\u001b[0m\u001b[1;33m)\u001b[0m\u001b[1;33m)\u001b[0m\u001b[1;33m]\u001b[0m\u001b[1;33m\u001b[0m\u001b[1;33m\u001b[0m\u001b[0m\n\u001b[1;32m----> 4\u001b[1;33m drop_down = Dropdown(options=dir_list, value=dir_list[0], description='scanID:', disabled=False, \n\u001b[0m\u001b[0;32m      5\u001b[0m                              layout=Layout(width='40%'), style={'description_width': 'initial'})\n\u001b[0;32m      6\u001b[0m \u001b[1;33m\u001b[0m\u001b[0m\n",
      "\u001b[1;31mIndexError\u001b[0m: list index out of range"
     ]
    }
   ],
   "source": [
    "# List the directories in the root directory, newest first\n",
    "\n",
    "dir_list=[name.split('\\\\')[-1].split(\".\")[0] for name in sorted(glob.glob(data_dir + '\\*.nxs'))]\n",
    "drop_down = Dropdown(options=dir_list, value=dir_list[0], description='scanID:', disabled=False, \n",
    "                             layout=Layout(width='40%'), style={'description_width': 'initial'})\n",
    "\n",
    "def dropdown_handler(change):\n",
    "    global scanID\n",
    "    scanID = change.new\n",
    "drop_down.observe(dropdown_handler, names='value')\n",
    "display(drop_down)"
   ]
  },
  {
   "cell_type": "code",
   "execution_count": 29,
   "metadata": {},
   "outputs": [],
   "source": [
    "# Save diffraction data in required format: intensity \\t C0 \\t C1 ... \\t Cn\n",
    "\n",
    "####### make function that performs the azimuthal integration and returns 2th, d, I & metadata (and polarization factor)\n",
    "def cake_data(scan_num, fpath, frame_format, metadata_path, metadata_format, pyFAI_ponyfile, wavelength=0.13865686822921588, azi_1=85, azi_range=10, r_bins=1000, partial_rings=False):\n",
    "    \"\"\"\n",
    "    Performs azimuthal integration of opposing \"slices\" between the two defined azimuths (azi_1 & azi_2) for the \n",
    "    frame (scan_num)\n",
    "    Returns data in dictionary\n",
    "    *Polarization factor should be checked\n",
    "    \"\"\"\n",
    "    \n",
    "    #filepath & \n",
    "    filename = fpath + str(scan_num).zfill(5) + frame_format\n",
    "    data = fabio.open(filename)\n",
    "    \n",
    "    #polarization factor correction for vertical and horiz correction\n",
    "    av_azimuth = (azi_1 + azi_range) / 2\n",
    "    p_factor = np.sin(np.radians(2*av_azimuth-90))\n",
    "    \n",
    "    x, y = pyFAI_ponyfile.integrate1d(data=data.data, npt=4000, polarization_factor=p_factor,\n",
    "                  azimuth_range = (azi_1, azi_1+azi_range), radial_range=(2.5, 6.5),\n",
    "                    method='bbox_cython', unit='2th_deg')\n",
    "  \n",
    "    d = wavelength/(2*np.sin(np.deg2rad(x/2)))\n",
    "\n",
    "    \n",
    "    fname = metadata_path + metadata_format\n",
    "    metadata = nxload(fname)\n",
    "\n",
    "    load = metadata.entry1.instrument.adc01_06.adc01_06\n",
    "    pos = metadata.entry1.instrument.adc01_07.adc01_07\n",
    "    temp = metadata.entry1.instrument.adc01_08.adc01_08\n",
    "    \n",
    "    metadata = {\"load\": load*200,\n",
    "               \"position\": pos*0.5,\n",
    "               \"temp\": temp*150}\n",
    "    \n",
    "    return {'2theta_deg':x, 'd_A':d, 'intensity':y, 'metadata':metadata, 'p_factor':p_factor}\n"
   ]
  },
  {
   "cell_type": "code",
   "execution_count": 30,
   "metadata": {},
   "outputs": [],
   "source": [
    "fpath = data_dir + \"\\\\\" + scanID + \"-pilatus2M-files\" + \"\\\\\" \n",
    "frame_format = \".tif\"\n",
    "metadata_path = data_dir + \"\\\\\" + scanID\n",
    "metadata_format = \".nxs\"\n",
    "ai = pyFAI.load(ponifile_1050mm)"
   ]
  },
  {
   "cell_type": "code",
   "execution_count": 31,
   "metadata": {},
   "outputs": [
    {
     "name": "stdout",
     "output_type": "stream",
     "text": [
      "[0, 5, 10, 15, 20, 25, 30, 35, 40, 45, 50, 55, 60, 65, 70, 75, 80, 85, 90, 95, 100, 105, 110, 115, 120, 125, 130, 135, 140, 145, 150, 155, 160, 165, 170, 175, -180, -175, -170, -165, -160, -155, -150, -145, -140, -135, -130, -125, -120, -115, -110, -105, -100, -95, -90, -85, -80, -75, -70, -65, -60, -55, -50, -45, -40, -35, -30, -25, -20, -15, -10, -5] 72\n"
     ]
    }
   ],
   "source": [
    "# generate list of frames ---------------------------------\n",
    "frames = glob.glob(data_dir + \"\\\\\" + scanID + \"-pilatus2M-files\" + \"\\\\\" + \"*\")\n",
    "frames = np.array(sorted([int(name.split('\\\\')[-1].split(\".\")[0]) for name in frames]))\n",
    "# ----------------------------------------------------------------------------\n",
    "\n",
    "# Setup list of azimuths to integrate (0 is EAST; range(-180, 180); this is a pain in the arse)\n",
    "azimuths = list(np.arange(0, 180, 5)) + list(np.arange(-180, 0, 5)) # opposing slices are combined in def(cake_data)\n",
    "print([azi for azi in azimuths], len(azimuths))\n",
    "\n",
    "##### setup test list ##### delete this once working\n",
    "frames = list(range(1,2))"
   ]
  },
  {
   "cell_type": "code",
   "execution_count": 32,
   "metadata": {},
   "outputs": [
    {
     "name": "stderr",
     "output_type": "stream",
     "text": [
      "WARNING:pyFAI.geometry:Azimuthal range issue: Range [3.0543261909900767, 3.2288591161895095] not in valid region [-π; π[ in radians: Expect partial results !\n"
     ]
    }
   ],
   "source": [
    "######### cake *ALL* data and add to text file ##########\n",
    "\n",
    "######## processing heavy DO NOT RUN UNLESS SURE #########\n",
    "\n",
    "for frame in frames:\n",
    "    # extract two theta values\n",
    "    data = cake_data(frame,\n",
    "                 fpath, \n",
    "                 frame_format, \n",
    "                 metadata_path, \n",
    "                 metadata_format, \n",
    "                 ai, \n",
    "                 azi_1=azimuths[0],\n",
    "                 azi_range=10, \n",
    "                 wavelength=0.13865686822921588,\n",
    "                 r_bins=4000,\n",
    "                 partial_rings=False) \n",
    "    data = [list(data['2theta_deg'])]\n",
    "\n",
    "    ##### now append all other cake slices ####\n",
    "    for az in azimuths:\n",
    "        i_data = cake_data(frame, fpath,frame_format, metadata_path, metadata_format, ai, azi_1=az,azi_range=10, \n",
    "                           wavelength=0.13865686822921588, r_bins=4000, partial_rings=False) \n",
    "        data.append(list(i_data[\"intensity\"]))\n",
    "    \n",
    "    # transpose into column format\n",
    "    T_data = list(map(list, zip(*data)))\n",
    "    \n",
    "    # write to file\n",
    "    fname = \"Integrated//\" + \"Integrated_\" + str(scanID) + '//' + f'{frame:05d}' + \".txt\"\n",
    "    with open(fname, 'w+', newline='') as file:\n",
    "        writer = csv.writer(file, delimiter='\\t')\n",
    "        writer.writerows(T_data)"
   ]
  },
  {
   "cell_type": "code",
   "execution_count": 67,
   "metadata": {},
   "outputs": [],
   "source": []
  },
  {
   "cell_type": "code",
   "execution_count": 86,
   "metadata": {},
   "outputs": [],
   "source": [
    "# supress warnings when TIFFs are read\n",
    "logging.getLogger(\"fabio.TiffIO\").setLevel(logging.ERROR)\n",
    "\n",
    "# user inputs\n",
    "number_of_points = 4000\n",
    "number_of_cakes = 36\n",
    "\n",
    "# rotate the detector so that the cardinal direction is in the center of the first cake.\n",
    "first_cake_angle = 360 / number_of_cakes\n",
    "ai.rot3 = (first_cake_angle / 2) * (math.pi / 180) # convert rotation to radians\n",
    "\n",
    "# get a list of the files\n",
    "image_list = sorted(pathlib.Path(fpath).glob(\"*.tif\"))"
   ]
  },
  {
   "cell_type": "code",
   "execution_count": 87,
   "metadata": {},
   "outputs": [],
   "source": [
    "for image_path in image_list[0:1]:\n",
    "    # create empty array\n",
    "    caked_data = np.zeros((number_of_cakes + 1, number_of_points))\n",
    "    \n",
    "    # create an image array and cake the data\n",
    "    with warnings.catch_warnings():\n",
    "        warnings.simplefilter(\"ignore\")\n",
    "        image = fabio.open(image_path)\n",
    "    pattern_image_array = image.data\n",
    "    result2d = ai.integrate2d(pattern_image_array,\n",
    "                            number_of_points,\n",
    "                            number_of_cakes,\n",
    "                            radial_range = (2.5, 6.5),\n",
    "                            unit=\"2th_deg\",\n",
    "                            polarization_factor=0.99,\n",
    "                            method='full_csr')\n",
    "    \n",
    "    # flip the intensity data to order cakes clockwise rather than anticlockwise\n",
    "    intensity = np.flip(result2d.intensity.T, axis=1)\n",
    "    \n",
    "    # reshape radial labels to 2D array so they can be attached to the intensity data.\n",
    "    radial = np.reshape(result2d.radial, (-1, 1))\n",
    "    \n",
    "    result_array = np.hstack((radial, intensity))\n",
    "    \n",
    "    # write out the caked data to a text file\n",
    "    output_path = r\"Z:/Diamond_MG28894-1_DATA_BACKUP/processing/Integrated/\" + scanID + \"/\" + f\"{image_path.stem}.txt\"\n",
    "    \n",
    "    np.savetxt(output_path, result_array, delimiter='\\t')\n",
    "    \n",
    "    "
   ]
  },
  {
   "cell_type": "code",
   "execution_count": null,
   "metadata": {},
   "outputs": [],
   "source": []
  }
 ],
 "metadata": {
  "kernelspec": {
   "display_name": "Python 3",
   "language": "python",
   "name": "python3"
  },
  "language_info": {
   "codemirror_mode": {
    "name": "ipython",
    "version": 3
   },
   "file_extension": ".py",
   "mimetype": "text/x-python",
   "name": "python",
   "nbconvert_exporter": "python",
   "pygments_lexer": "ipython3",
   "version": "3.8.3"
  }
 },
 "nbformat": 4,
 "nbformat_minor": 4
}
